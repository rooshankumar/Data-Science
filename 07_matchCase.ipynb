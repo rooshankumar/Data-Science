{
 "cells": [
  {
   "cell_type": "code",
   "execution_count": 8,
   "id": "d3435cb5-77f6-4ca0-9300-db7fc5801ab4",
   "metadata": {},
   "outputs": [
    {
     "name": "stdin",
     "output_type": "stream",
     "text": [
      "Enter code:  500\n"
     ]
    },
    {
     "name": "stdout",
     "output_type": "stream",
     "text": [
      "Internal Server Error\n",
      "End of Program\n"
     ]
    }
   ],
   "source": [
    "code = int(input(\"Enter code: \"))\n",
    "\n",
    "def http_status(code):\n",
    "    match code:\n",
    "        case 200:\n",
    "            return \"OK\"\n",
    "        case 400:\n",
    "            return \"Bad Request\"\n",
    "        case 404:\n",
    "            return \"Not Found\"\n",
    "        case 500:\n",
    "            return \"Internal Server Error\"\n",
    "        case _:\n",
    "            return \"Unknown Status Code\"\n",
    "\n",
    "print(http_status(code))\n",
    "print(\"End of Program\")\n"
   ]
  },
  {
   "cell_type": "code",
   "execution_count": 3,
   "id": "e80ab8c2-e4b8-4ec5-a10d-60067b47f490",
   "metadata": {},
   "outputs": [],
   "source": []
  }
 ],
 "metadata": {
  "kernelspec": {
   "display_name": "Python 3 (ipykernel)",
   "language": "python",
   "name": "python3"
  },
  "language_info": {
   "codemirror_mode": {
    "name": "ipython",
    "version": 3
   },
   "file_extension": ".py",
   "mimetype": "text/x-python",
   "name": "python",
   "nbconvert_exporter": "python",
   "pygments_lexer": "ipython3",
   "version": "3.13.5"
  }
 },
 "nbformat": 4,
 "nbformat_minor": 5
}
