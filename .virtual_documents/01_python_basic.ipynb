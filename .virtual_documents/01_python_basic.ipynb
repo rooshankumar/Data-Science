a = 5


b = 32


a+b


name = "Roshan"


print("Hello")


#This is a comment


print(type(a))


print(type(name))


type(name)


a = "456"


b = "543"


a+b


int(a) + int(b) #typecasting in python



