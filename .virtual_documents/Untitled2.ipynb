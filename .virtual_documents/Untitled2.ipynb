a = 10
b = 5


a + b


a - b


a * b


a / b


a % b


a ^ b


a**b


a**a


a = 45


b = 4


a >b


a<b


a == b


c = 4


b == c


a != c


a = 5


b = 5


a>b


a == b


a<b


a<=b


b1 = True


b2 = False
not(b1)



not(b2)



b1 or b2


b1 and b2


 a = 5


a+=5


a


a -=5



a


a //=a


a


a = 11


a //=2


a



