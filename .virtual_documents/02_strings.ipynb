name = "Harry"


name


name.upper()


name.endswith("y")


name.endswith("k")


name.lower()


name.count("r")


print(len(name))


name[0:5]


name[3:5]


name[1:-1]



