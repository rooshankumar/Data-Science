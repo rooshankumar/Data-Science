a = {}


type(a)


b = set()


type(b)


s = {2,3,4,5,3,4}


type(s)


s


t = {1,2,22,32,32,32,43,"Roshan"}


type(t)


t



k = {2,32,43,21,32,45}


s.add(100)


s


s.update([2,355])


s


set1 = {1,2,3,4}
set2 = {3,4,5,6}


set1.union(set2)


set1


set2


set1.intersection(set2)


set1.difference(set2)


sub = {1,2}


sub.issubset(set1)


set1.issuperset(sub)


import pandas as pd
data = {'Name': ['Alice', 'Bob', 'Charlie'], 'Score': [85, 40, 75]}
df = pd.DataFrame(data)
df['Result'] = df['Score'].apply(lambda x: 'Pass' if x >= 50 else 'Fail')
print(df)



