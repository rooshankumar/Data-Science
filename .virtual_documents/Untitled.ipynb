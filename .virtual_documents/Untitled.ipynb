cube = lambda x: x * x * x
print(cube(3))  # Output: 27
print(cube(5))  # Output: 125



from functools import reduce

# List of numbers
nums = [1, 2, 3, 4, 5, 6]

# 1️⃣ map() — apply a function to each element
squares = list(map(lambda x: x * x, nums))
print("Squares:", squares)

# 2️⃣ filter() — keep only even numbers
evens = list(filter(lambda x: x % 2 == 0, nums))
print("Even numbers:", evens)

# 3️⃣ reduce() — combine all elements into one result
sum_all = reduce(lambda a, b: a + b, nums)
print("Sum of all numbers:", sum_all)




