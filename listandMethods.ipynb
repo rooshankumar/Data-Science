{
 "cells": [
  {
   "cell_type": "code",
   "execution_count": 1,
   "id": "33a96437-5f40-4257-8032-36117837e23f",
   "metadata": {},
   "outputs": [],
   "source": [
    " l = [2,4,54,675,21]"
   ]
  },
  {
   "cell_type": "code",
   "execution_count": 2,
   "id": "bcbcbfc8-8094-42b9-b446-282f296747ba",
   "metadata": {},
   "outputs": [
    {
     "data": {
      "text/plain": [
       "2"
      ]
     },
     "execution_count": 2,
     "metadata": {},
     "output_type": "execute_result"
    }
   ],
   "source": [
    "l[0]"
   ]
  },
  {
   "cell_type": "code",
   "execution_count": 3,
   "id": "cb9cbf2d-c9f1-451a-b773-58c83e14cb73",
   "metadata": {},
   "outputs": [
    {
     "data": {
      "text/plain": [
       "21"
      ]
     },
     "execution_count": 3,
     "metadata": {},
     "output_type": "execute_result"
    }
   ],
   "source": [
    "l[4]"
   ]
  },
  {
   "cell_type": "code",
   "execution_count": 4,
   "id": "c6f0ca27-e300-4ff8-bd8e-e2c9e0097a86",
   "metadata": {},
   "outputs": [],
   "source": [
    "l[0] = 432\n"
   ]
  },
  {
   "cell_type": "code",
   "execution_count": 5,
   "id": "be1d1afc-434f-4226-a58e-e6eeb13f0eb5",
   "metadata": {},
   "outputs": [
    {
     "data": {
      "text/plain": [
       "432"
      ]
     },
     "execution_count": 5,
     "metadata": {},
     "output_type": "execute_result"
    }
   ],
   "source": [
    "l[0]"
   ]
  },
  {
   "cell_type": "code",
   "execution_count": 6,
   "id": "cbda8d0a-f3c7-4a47-945e-ebf240a5d6ca",
   "metadata": {},
   "outputs": [
    {
     "data": {
      "text/plain": [
       "[432, 4, 54, 675, 21]"
      ]
     },
     "execution_count": 6,
     "metadata": {},
     "output_type": "execute_result"
    }
   ],
   "source": [
    "l"
   ]
  },
  {
   "cell_type": "code",
   "execution_count": 7,
   "id": "7b391ee9-e767-4ad7-a4af-946cd81ac426",
   "metadata": {},
   "outputs": [],
   "source": [
    "l.append(9)"
   ]
  },
  {
   "cell_type": "code",
   "execution_count": 8,
   "id": "5343e41a-992b-4419-b155-cffe6bc9b2e5",
   "metadata": {},
   "outputs": [
    {
     "data": {
      "text/plain": [
       "[432, 4, 54, 675, 21, 9]"
      ]
     },
     "execution_count": 8,
     "metadata": {},
     "output_type": "execute_result"
    }
   ],
   "source": [
    "l"
   ]
  },
  {
   "cell_type": "code",
   "execution_count": 12,
   "id": "a8cf408f-285f-4007-b097-e10614a376f6",
   "metadata": {},
   "outputs": [],
   "source": [
    "l2 = [ 11,22,33,44,55,66]"
   ]
  },
  {
   "cell_type": "code",
   "execution_count": 13,
   "id": "d690eab0-4770-4792-a6a2-cf0c913aa5f8",
   "metadata": {},
   "outputs": [
    {
     "data": {
      "text/plain": [
       "[11, 22, 33, 44, 55, 66]"
      ]
     },
     "execution_count": 13,
     "metadata": {},
     "output_type": "execute_result"
    }
   ],
   "source": [
    "l2\n"
   ]
  },
  {
   "cell_type": "code",
   "execution_count": 14,
   "id": "e018ae39-f29d-40e2-837b-97a41c3dd586",
   "metadata": {},
   "outputs": [],
   "source": [
    "l.extend(l2)"
   ]
  },
  {
   "cell_type": "code",
   "execution_count": 15,
   "id": "b9e558e0-37ed-4e00-a209-ea33fb7888ee",
   "metadata": {},
   "outputs": [
    {
     "data": {
      "text/plain": [
       "[432, 4, 54, 675, 21, 9, 11, 22, 33, 44, 55, 66]"
      ]
     },
     "execution_count": 15,
     "metadata": {},
     "output_type": "execute_result"
    }
   ],
   "source": [
    "l"
   ]
  },
  {
   "cell_type": "code",
   "execution_count": 16,
   "id": "3e7328e0-5c28-405e-93ad-b9861c33419b",
   "metadata": {},
   "outputs": [],
   "source": [
    "l.insert(1,200) # inserting 200 at index 1"
   ]
  },
  {
   "cell_type": "code",
   "execution_count": 17,
   "id": "1c6dc091-06cf-42b7-92c3-809ab1122573",
   "metadata": {},
   "outputs": [
    {
     "data": {
      "text/plain": [
       "[432, 200, 4, 54, 675, 21, 9, 11, 22, 33, 44, 55, 66]"
      ]
     },
     "execution_count": 17,
     "metadata": {},
     "output_type": "execute_result"
    }
   ],
   "source": [
    "l"
   ]
  },
  {
   "cell_type": "code",
   "execution_count": 18,
   "id": "04b3ca4b-8e4b-4a85-be05-44604f4358ae",
   "metadata": {},
   "outputs": [],
   "source": [
    "num = l.pop(4)"
   ]
  },
  {
   "cell_type": "code",
   "execution_count": 19,
   "id": "43c92f33-14b7-4c55-84c1-65af15cb9e9d",
   "metadata": {},
   "outputs": [
    {
     "data": {
      "text/plain": [
       "675"
      ]
     },
     "execution_count": 19,
     "metadata": {},
     "output_type": "execute_result"
    }
   ],
   "source": [
    "num"
   ]
  },
  {
   "cell_type": "code",
   "execution_count": 20,
   "id": "8d21b21c-d734-4630-a322-dee92e7be57c",
   "metadata": {},
   "outputs": [
    {
     "data": {
      "text/plain": [
       "[432, 200, 4, 54, 21, 9, 11, 22, 33, 44, 55, 66]"
      ]
     },
     "execution_count": 20,
     "metadata": {},
     "output_type": "execute_result"
    }
   ],
   "source": [
    "l"
   ]
  },
  {
   "cell_type": "code",
   "execution_count": 21,
   "id": "3739ec09-ff27-4d56-9431-a6cb48821845",
   "metadata": {},
   "outputs": [
    {
     "data": {
      "text/plain": [
       "2"
      ]
     },
     "execution_count": 21,
     "metadata": {},
     "output_type": "execute_result"
    }
   ],
   "source": [
    "l.index(4)"
   ]
  },
  {
   "cell_type": "code",
   "execution_count": 22,
   "id": "7ec4308b-9293-41e2-87c9-35523dad221e",
   "metadata": {},
   "outputs": [
    {
     "data": {
      "text/plain": [
       "10"
      ]
     },
     "execution_count": 22,
     "metadata": {},
     "output_type": "execute_result"
    }
   ],
   "source": [
    "l.index(55)"
   ]
  },
  {
   "cell_type": "code",
   "execution_count": 23,
   "id": "e5ceab21-4ca3-4a35-a1e5-7b14094347f5",
   "metadata": {},
   "outputs": [
    {
     "data": {
      "text/plain": [
       "1"
      ]
     },
     "execution_count": 23,
     "metadata": {},
     "output_type": "execute_result"
    }
   ],
   "source": [
    "l.count(21)"
   ]
  },
  {
   "cell_type": "code",
   "execution_count": 24,
   "id": "e63f690e-c878-41cd-87f0-9b7c8a5a6aa1",
   "metadata": {},
   "outputs": [],
   "source": [
    "l.append(4)"
   ]
  },
  {
   "cell_type": "code",
   "execution_count": 25,
   "id": "321813ac-81a7-41bd-9817-3f0aefb18791",
   "metadata": {},
   "outputs": [
    {
     "data": {
      "text/plain": [
       "2"
      ]
     },
     "execution_count": 25,
     "metadata": {},
     "output_type": "execute_result"
    }
   ],
   "source": [
    "l.count(4)"
   ]
  },
  {
   "cell_type": "code",
   "execution_count": 27,
   "id": "f0f4bf74-0511-4baa-b0d7-ba364d6674d7",
   "metadata": {},
   "outputs": [],
   "source": [
    "l.sort()"
   ]
  },
  {
   "cell_type": "code",
   "execution_count": 28,
   "id": "35172562-7631-46ae-a7b8-51467dedcf3a",
   "metadata": {},
   "outputs": [
    {
     "data": {
      "text/plain": [
       "[4, 4, 9, 11, 21, 22, 33, 44, 54, 55, 66, 200, 432]"
      ]
     },
     "execution_count": 28,
     "metadata": {},
     "output_type": "execute_result"
    }
   ],
   "source": [
    "l"
   ]
  },
  {
   "cell_type": "code",
   "execution_count": 29,
   "id": "caa0b1be-143a-45c4-8b1e-54e59b66c70b",
   "metadata": {},
   "outputs": [
    {
     "data": {
      "text/plain": [
       "[4, 4, 9, 11, 21, 22, 33, 44, 54, 55, 66, 200, 432]"
      ]
     },
     "execution_count": 29,
     "metadata": {},
     "output_type": "execute_result"
    }
   ],
   "source": [
    "sorted(l) #returns a new list ,a new version of sorted old list\n"
   ]
  },
  {
   "cell_type": "code",
   "execution_count": 32,
   "id": "5b36e802-4c3e-4727-a333-767701aa583a",
   "metadata": {},
   "outputs": [],
   "source": [
    "y = [ 1,2, True, False, [ 23,54, \"Roshan\"]]"
   ]
  },
  {
   "cell_type": "code",
   "execution_count": 33,
   "id": "c0d08f75-b7b8-4db9-9517-50f2e8f5791c",
   "metadata": {},
   "outputs": [
    {
     "data": {
      "text/plain": [
       "[1, 2, True, False, [23, 54, 'Roshan']]"
      ]
     },
     "execution_count": 33,
     "metadata": {},
     "output_type": "execute_result"
    }
   ],
   "source": [
    "y"
   ]
  },
  {
   "cell_type": "code",
   "execution_count": 34,
   "id": "099f0aea-2b18-44b5-abcd-5ac5bdc3e5dd",
   "metadata": {},
   "outputs": [
    {
     "data": {
      "text/plain": [
       "[23, 54, 'Roshan']"
      ]
     },
     "execution_count": 34,
     "metadata": {},
     "output_type": "execute_result"
    }
   ],
   "source": [
    "y[4]"
   ]
  },
  {
   "cell_type": "code",
   "execution_count": 36,
   "id": "d4f38c10-5c78-4b31-a097-4f6f140475c9",
   "metadata": {},
   "outputs": [
    {
     "data": {
      "text/plain": [
       "'Roshan'"
      ]
     },
     "execution_count": 36,
     "metadata": {},
     "output_type": "execute_result"
    }
   ],
   "source": [
    "y[4][2]"
   ]
  },
  {
   "cell_type": "markdown",
   "id": "ac26bca5-02d6-420a-8d60-d33092572cad",
   "metadata": {},
   "source": [
    "t = [ 2,54,21]"
   ]
  },
  {
   "cell_type": "code",
   "execution_count": 37,
   "id": "19c63ccb-afd7-4289-956b-a60a08d65543",
   "metadata": {},
   "outputs": [],
   "source": [
    "t = [2,6,21,43]"
   ]
  },
  {
   "cell_type": "code",
   "execution_count": 39,
   "id": "56bda247-3a24-4701-a13d-66b78c23f2bb",
   "metadata": {},
   "outputs": [],
   "source": [
    "k = [21,54,87,9]"
   ]
  },
  {
   "cell_type": "code",
   "execution_count": 40,
   "id": "cea04bfe-3b09-455d-9ad4-e6ecafdfd872",
   "metadata": {},
   "outputs": [
    {
     "data": {
      "text/plain": [
       "[2, 6, 21, 43, 21, 54, 87, 9]"
      ]
     },
     "execution_count": 40,
     "metadata": {},
     "output_type": "execute_result"
    }
   ],
   "source": [
    "t + k"
   ]
  },
  {
   "cell_type": "code",
   "execution_count": 41,
   "id": "c8182e01-fe05-4997-b591-3f651a5b5582",
   "metadata": {},
   "outputs": [
    {
     "data": {
      "text/plain": [
       "[2, 6, 21, 43]"
      ]
     },
     "execution_count": 41,
     "metadata": {},
     "output_type": "execute_result"
    }
   ],
   "source": [
    "t"
   ]
  },
  {
   "cell_type": "code",
   "execution_count": 42,
   "id": "0e7f8c2c-1ebf-4684-964c-91bd3563567a",
   "metadata": {},
   "outputs": [
    {
     "data": {
      "text/plain": [
       "[21, 54, 87, 9]"
      ]
     },
     "execution_count": 42,
     "metadata": {},
     "output_type": "execute_result"
    }
   ],
   "source": [
    "k"
   ]
  },
  {
   "cell_type": "code",
   "execution_count": 45,
   "id": "55bd6ee8-60c0-4282-9055-807306d8aae9",
   "metadata": {},
   "outputs": [
    {
     "name": "stdout",
     "output_type": "stream",
     "text": [
      "Yes\n"
     ]
    }
   ],
   "source": [
    "if 21 in k:\n",
    "    print(\"Yes\")"
   ]
  },
  {
   "cell_type": "markdown",
   "id": "8d7b44c5-078a-40d6-9e96-ae79b21dd866",
   "metadata": {},
   "source": [
    "43 in t"
   ]
  },
  {
   "cell_type": "code",
   "execution_count": 46,
   "id": "a2464e67-7232-4b9f-a0ac-b9b8385cfabb",
   "metadata": {},
   "outputs": [
    {
     "data": {
      "text/plain": [
       "True"
      ]
     },
     "execution_count": 46,
     "metadata": {},
     "output_type": "execute_result"
    }
   ],
   "source": [
    "43 in t"
   ]
  },
  {
   "cell_type": "code",
   "execution_count": 47,
   "id": "5db674c8-6c5a-4e9f-ba27-b1e26fdd7022",
   "metadata": {},
   "outputs": [],
   "source": [
    "s = \"roshan.jay.shubham.susant.raunak\""
   ]
  },
  {
   "cell_type": "code",
   "execution_count": 49,
   "id": "186451b8-1f01-4952-bbfb-a356e87115bf",
   "metadata": {},
   "outputs": [
    {
     "data": {
      "text/plain": [
       "['roshan', 'jay', 'shubham', 'susant', 'raunak']"
      ]
     },
     "execution_count": 49,
     "metadata": {},
     "output_type": "execute_result"
    }
   ],
   "source": [
    "s.split(\".\")"
   ]
  },
  {
   "cell_type": "code",
   "execution_count": null,
   "id": "6e881e50-3414-4889-9960-96677e3f04ba",
   "metadata": {},
   "outputs": [],
   "source": []
  }
 ],
 "metadata": {
  "kernelspec": {
   "display_name": "Python 3 (ipykernel)",
   "language": "python",
   "name": "python3"
  },
  "language_info": {
   "codemirror_mode": {
    "name": "ipython",
    "version": 3
   },
   "file_extension": ".py",
   "mimetype": "text/x-python",
   "name": "python",
   "nbconvert_exporter": "python",
   "pygments_lexer": "ipython3",
   "version": "3.13.5"
  }
 },
 "nbformat": 4,
 "nbformat_minor": 5
}
