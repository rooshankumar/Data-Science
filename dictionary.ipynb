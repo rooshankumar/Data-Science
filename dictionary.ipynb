{
 "cells": [
  {
   "cell_type": "code",
   "execution_count": 1,
   "id": "77485ef1-b800-4924-886f-db144c3bb8e4",
   "metadata": {},
   "outputs": [],
   "source": [
    "d = {}"
   ]
  },
  {
   "cell_type": "code",
   "execution_count": 2,
   "id": "d2d03a8b-1ef1-4046-9038-43f0c2542618",
   "metadata": {},
   "outputs": [
    {
     "data": {
      "text/plain": [
       "dict"
      ]
     },
     "execution_count": 2,
     "metadata": {},
     "output_type": "execute_result"
    }
   ],
   "source": [
    "type(d)"
   ]
  },
  {
   "cell_type": "code",
   "execution_count": 4,
   "id": "46d6cd35-b0d2-4e71-bc3e-93699693ef97",
   "metadata": {},
   "outputs": [],
   "source": [
    "student = {\n",
    "    \"name\" : \"Roshan\",\n",
    "    \"age\" : \"25\",\n",
    "    \"grade\" : \"BSc\"\n",
    "}"
   ]
  },
  {
   "cell_type": "code",
   "execution_count": 10,
   "id": "88637aa6-6c04-4b21-bbe2-498471108c03",
   "metadata": {},
   "outputs": [
    {
     "data": {
      "text/plain": [
       "'Roshan'"
      ]
     },
     "execution_count": 10,
     "metadata": {},
     "output_type": "execute_result"
    }
   ],
   "source": [
    "student.get(\"name\")"
   ]
  },
  {
   "cell_type": "code",
   "execution_count": 11,
   "id": "04ca2f8a-8739-4167-b070-bf479999de32",
   "metadata": {},
   "outputs": [],
   "source": [
    "r = student.get(\"age\")"
   ]
  },
  {
   "cell_type": "code",
   "execution_count": 12,
   "id": "fae66c14-3b3b-4c80-b417-22c35c6be6c4",
   "metadata": {},
   "outputs": [
    {
     "data": {
      "text/plain": [
       "'25'"
      ]
     },
     "execution_count": 12,
     "metadata": {},
     "output_type": "execute_result"
    }
   ],
   "source": [
    "r"
   ]
  },
  {
   "cell_type": "code",
   "execution_count": 13,
   "id": "15f709ad-146d-43fb-85dc-b4d2c839c233",
   "metadata": {},
   "outputs": [],
   "source": [
    "student = {\n",
    "    \"name\" : \"Roshan\",\n",
    "    \"age\" : \"25\",\n",
    "    \"grade\" : \"BSc\"\n",
    "}"
   ]
  },
  {
   "cell_type": "code",
   "execution_count": 14,
   "id": "327ef1dd-cd2e-4eff-a046-9e9cffbc7753",
   "metadata": {},
   "outputs": [
    {
     "name": "stdout",
     "output_type": "stream",
     "text": [
      "25\n"
     ]
    }
   ],
   "source": [
    "print(student[\"age\"])"
   ]
  },
  {
   "cell_type": "code",
   "execution_count": 15,
   "id": "1009d0a1-af7b-4c8f-89e1-4afb1eb6c06c",
   "metadata": {},
   "outputs": [],
   "source": [
    "student[\"age\"] = 89"
   ]
  },
  {
   "cell_type": "code",
   "execution_count": 17,
   "id": "1dbcb224-48a6-44e0-9ae7-cb022c1d328c",
   "metadata": {},
   "outputs": [
    {
     "name": "stdout",
     "output_type": "stream",
     "text": [
      "89\n"
     ]
    }
   ],
   "source": [
    "print(student[\"age\"])"
   ]
  },
  {
   "cell_type": "code",
   "execution_count": 18,
   "id": "6712c214-b2c5-4344-8a9a-955887a528f3",
   "metadata": {},
   "outputs": [
    {
     "data": {
      "text/plain": [
       "dict_keys(['name', 'age', 'grade'])"
      ]
     },
     "execution_count": 18,
     "metadata": {},
     "output_type": "execute_result"
    }
   ],
   "source": [
    "student.keys()"
   ]
  },
  {
   "cell_type": "code",
   "execution_count": 19,
   "id": "2cb180bc-604d-4899-aa2a-c8e4bcb41403",
   "metadata": {},
   "outputs": [
    {
     "data": {
      "text/plain": [
       "dict_values(['Roshan', 89, 'BSc'])"
      ]
     },
     "execution_count": 19,
     "metadata": {},
     "output_type": "execute_result"
    }
   ],
   "source": [
    "student.values()"
   ]
  },
  {
   "cell_type": "code",
   "execution_count": 20,
   "id": "be540211-cf6c-4349-818a-fca34270d3ca",
   "metadata": {},
   "outputs": [
    {
     "data": {
      "text/plain": [
       "dict_items([('name', 'Roshan'), ('age', 89), ('grade', 'BSc')])"
      ]
     },
     "execution_count": 20,
     "metadata": {},
     "output_type": "execute_result"
    }
   ],
   "source": [
    "student.items()"
   ]
  },
  {
   "cell_type": "code",
   "execution_count": 22,
   "id": "07761a8f-86ae-4f6b-8738-6dc60274f1c5",
   "metadata": {},
   "outputs": [],
   "source": [
    "student.update({\"name\" : \"Harry\"})"
   ]
  },
  {
   "cell_type": "code",
   "execution_count": 23,
   "id": "b857891f-5dba-466d-9b0c-ab67a2e7b26c",
   "metadata": {},
   "outputs": [
    {
     "data": {
      "text/plain": [
       "{'name': 'Harry', 'age': 89, 'grade': 'BSc'}"
      ]
     },
     "execution_count": 23,
     "metadata": {},
     "output_type": "execute_result"
    }
   ],
   "source": [
    "student"
   ]
  },
  {
   "cell_type": "code",
   "execution_count": 24,
   "id": "93aa519a-6ac2-470a-8a6a-ad74cc0297f2",
   "metadata": {},
   "outputs": [],
   "source": [
    "student.update({\"name\" : \"Pagal\"})"
   ]
  },
  {
   "cell_type": "code",
   "execution_count": 25,
   "id": "ef5033df-d2ad-43a8-9725-deb36f6f4758",
   "metadata": {},
   "outputs": [
    {
     "data": {
      "text/plain": [
       "{'name': 'Pagal', 'age': 89, 'grade': 'BSc'}"
      ]
     },
     "execution_count": 25,
     "metadata": {},
     "output_type": "execute_result"
    }
   ],
   "source": [
    "student"
   ]
  },
  {
   "cell_type": "code",
   "execution_count": 26,
   "id": "5938937c-cd91-4ea8-a6bc-a4b9cc61d8c9",
   "metadata": {},
   "outputs": [],
   "source": [
    "student.update({\"name\" : \"Pagal\",\"language\" : \"English\"})"
   ]
  },
  {
   "cell_type": "code",
   "execution_count": 27,
   "id": "bee37ea2-21ec-4de0-b585-acabb4e3ddef",
   "metadata": {},
   "outputs": [
    {
     "data": {
      "text/plain": [
       "{'name': 'Pagal', 'age': 89, 'grade': 'BSc', 'language': 'English'}"
      ]
     },
     "execution_count": 27,
     "metadata": {},
     "output_type": "execute_result"
    }
   ],
   "source": [
    "student"
   ]
  },
  {
   "cell_type": "code",
   "execution_count": 29,
   "id": "85c31abf-8a08-4021-8770-3a29dec83fc2",
   "metadata": {},
   "outputs": [
    {
     "name": "stdout",
     "output_type": "stream",
     "text": [
      "name : Alice\n",
      "age : 26\n",
      "city : New York\n"
     ]
    }
   ],
   "source": [
    "student = {\"name\": \"Alice\", \"age\": 25, \"grade\": \"A\"}\n",
    "# Adding a new key-value pair\n",
    "student[\"city\"] = \"New York\"\n",
    "# Updating an existing value\n",
    "student[\"age\"] = 26\n",
    "# Removing an item\n",
    "student.pop(\"grade\")\n",
    "# Iterating over a dictionary\n",
    "for key, value in student.items():\n",
    "    print(key, \":\", value)\n"
   ]
  },
  {
   "cell_type": "code",
   "execution_count": null,
   "id": "b72f0852-b8c8-4b04-b4d2-ba7dea7e3988",
   "metadata": {},
   "outputs": [],
   "source": []
  }
 ],
 "metadata": {
  "kernelspec": {
   "display_name": "Python 3 (ipykernel)",
   "language": "python",
   "name": "python3"
  },
  "language_info": {
   "codemirror_mode": {
    "name": "ipython",
    "version": 3
   },
   "file_extension": ".py",
   "mimetype": "text/x-python",
   "name": "python",
   "nbconvert_exporter": "python",
   "pygments_lexer": "ipython3",
   "version": "3.13.5"
  }
 },
 "nbformat": 4,
 "nbformat_minor": 5
}
