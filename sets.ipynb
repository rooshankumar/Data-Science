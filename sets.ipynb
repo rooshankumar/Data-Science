{
 "cells": [
  {
   "cell_type": "code",
   "execution_count": 1,
   "id": "8859db84-3b9a-4982-9739-478b3ab6d72f",
   "metadata": {},
   "outputs": [],
   "source": [
    "a = {}"
   ]
  },
  {
   "cell_type": "code",
   "execution_count": 2,
   "id": "91da2000-f457-415d-8303-ab0ecb85bf1c",
   "metadata": {},
   "outputs": [
    {
     "data": {
      "text/plain": [
       "dict"
      ]
     },
     "execution_count": 2,
     "metadata": {},
     "output_type": "execute_result"
    }
   ],
   "source": [
    "type(a)"
   ]
  },
  {
   "cell_type": "code",
   "execution_count": 3,
   "id": "34161752-9131-49f0-858a-e030fc408335",
   "metadata": {},
   "outputs": [],
   "source": [
    "b = set()"
   ]
  },
  {
   "cell_type": "code",
   "execution_count": 4,
   "id": "160dfb88-8910-44f3-a18a-6b49cea9fe71",
   "metadata": {},
   "outputs": [
    {
     "data": {
      "text/plain": [
       "set"
      ]
     },
     "execution_count": 4,
     "metadata": {},
     "output_type": "execute_result"
    }
   ],
   "source": [
    "type(b)"
   ]
  },
  {
   "cell_type": "code",
   "execution_count": 5,
   "id": "587211cc-c575-41d8-a2be-f2ce2f53bc97",
   "metadata": {},
   "outputs": [],
   "source": [
    "s = {2,3,4,5,3,4}"
   ]
  },
  {
   "cell_type": "code",
   "execution_count": 6,
   "id": "e22b284c-1512-4d0b-aea0-ca0dfe706bf8",
   "metadata": {},
   "outputs": [
    {
     "data": {
      "text/plain": [
       "set"
      ]
     },
     "execution_count": 6,
     "metadata": {},
     "output_type": "execute_result"
    }
   ],
   "source": [
    "type(s)"
   ]
  },
  {
   "cell_type": "code",
   "execution_count": 7,
   "id": "27695788-6a7d-465f-a5e4-4938f062fc09",
   "metadata": {},
   "outputs": [
    {
     "data": {
      "text/plain": [
       "{2, 3, 4, 5}"
      ]
     },
     "execution_count": 7,
     "metadata": {},
     "output_type": "execute_result"
    }
   ],
   "source": [
    "s"
   ]
  },
  {
   "cell_type": "code",
   "execution_count": 11,
   "id": "5f998b30-6de0-49b1-8012-6b9aedcc8d4f",
   "metadata": {},
   "outputs": [],
   "source": [
    "t = {1,2,22,32,32,32,43,\"Roshan\"}"
   ]
  },
  {
   "cell_type": "code",
   "execution_count": 9,
   "id": "cd011c9f-b492-48d7-afdb-c00aab61998c",
   "metadata": {},
   "outputs": [
    {
     "data": {
      "text/plain": [
       "set"
      ]
     },
     "execution_count": 9,
     "metadata": {},
     "output_type": "execute_result"
    }
   ],
   "source": [
    "type(t)"
   ]
  },
  {
   "cell_type": "code",
   "execution_count": 12,
   "id": "fa22bf79-c2e9-44f3-93ba-63553689ac09",
   "metadata": {},
   "outputs": [
    {
     "data": {
      "text/plain": [
       "{1, 2, 22, 32, 43, 'Roshan'}"
      ]
     },
     "execution_count": 12,
     "metadata": {},
     "output_type": "execute_result"
    }
   ],
   "source": [
    "t\n"
   ]
  },
  {
   "cell_type": "code",
   "execution_count": 13,
   "id": "c716efa9-c5b0-41b2-bef9-335164e43b55",
   "metadata": {},
   "outputs": [],
   "source": [
    "k = {2,32,43,21,32,45}"
   ]
  },
  {
   "cell_type": "code",
   "execution_count": 14,
   "id": "8f73728e-8848-456e-8332-1a35a33c8ef6",
   "metadata": {},
   "outputs": [],
   "source": [
    "s.add(100)"
   ]
  },
  {
   "cell_type": "code",
   "execution_count": 15,
   "id": "4be69476-3f23-4e7d-b2af-3f47d16e183c",
   "metadata": {},
   "outputs": [
    {
     "data": {
      "text/plain": [
       "{2, 3, 4, 5, 100}"
      ]
     },
     "execution_count": 15,
     "metadata": {},
     "output_type": "execute_result"
    }
   ],
   "source": [
    "s"
   ]
  },
  {
   "cell_type": "code",
   "execution_count": 16,
   "id": "979bc721-3bd5-4664-984a-022bb9b04dd8",
   "metadata": {},
   "outputs": [],
   "source": [
    "s.update([2,355])"
   ]
  },
  {
   "cell_type": "code",
   "execution_count": 17,
   "id": "a5ef8e1d-c4f5-4ef0-9183-bbe409c4827a",
   "metadata": {},
   "outputs": [
    {
     "data": {
      "text/plain": [
       "{2, 3, 4, 5, 100, 355}"
      ]
     },
     "execution_count": 17,
     "metadata": {},
     "output_type": "execute_result"
    }
   ],
   "source": [
    "s"
   ]
  },
  {
   "cell_type": "code",
   "execution_count": 18,
   "id": "09c5436d-56cf-4e10-9e5d-88b8796631cd",
   "metadata": {},
   "outputs": [],
   "source": [
    "set1 = {1,2,3,4}\n",
    "set2 = {3,4,5,6}"
   ]
  },
  {
   "cell_type": "code",
   "execution_count": 19,
   "id": "f36889a8-3cd7-4bab-9fb0-e96ec668dcfb",
   "metadata": {},
   "outputs": [
    {
     "data": {
      "text/plain": [
       "{1, 2, 3, 4, 5, 6}"
      ]
     },
     "execution_count": 19,
     "metadata": {},
     "output_type": "execute_result"
    }
   ],
   "source": [
    "set1.union(set2)"
   ]
  },
  {
   "cell_type": "code",
   "execution_count": 20,
   "id": "090cb5ee-e02e-4088-8f57-3ec867717ad8",
   "metadata": {},
   "outputs": [
    {
     "data": {
      "text/plain": [
       "{1, 2, 3, 4}"
      ]
     },
     "execution_count": 20,
     "metadata": {},
     "output_type": "execute_result"
    }
   ],
   "source": [
    "set1"
   ]
  },
  {
   "cell_type": "code",
   "execution_count": 21,
   "id": "44afc08d-9437-466b-b0ff-40960b051bdd",
   "metadata": {},
   "outputs": [
    {
     "data": {
      "text/plain": [
       "{3, 4, 5, 6}"
      ]
     },
     "execution_count": 21,
     "metadata": {},
     "output_type": "execute_result"
    }
   ],
   "source": [
    "set2"
   ]
  },
  {
   "cell_type": "code",
   "execution_count": 22,
   "id": "ca7a31ba-b290-40aa-bb5c-0ea53a94c392",
   "metadata": {},
   "outputs": [
    {
     "data": {
      "text/plain": [
       "{3, 4}"
      ]
     },
     "execution_count": 22,
     "metadata": {},
     "output_type": "execute_result"
    }
   ],
   "source": [
    "set1.intersection(set2)"
   ]
  },
  {
   "cell_type": "code",
   "execution_count": 23,
   "id": "d9ad2683-bf09-47a9-b059-7e5ff59717bb",
   "metadata": {},
   "outputs": [
    {
     "data": {
      "text/plain": [
       "{1, 2}"
      ]
     },
     "execution_count": 23,
     "metadata": {},
     "output_type": "execute_result"
    }
   ],
   "source": [
    "set1.difference(set2)"
   ]
  },
  {
   "cell_type": "code",
   "execution_count": 24,
   "id": "b9482f86-ea53-4ecd-aaad-f5989c5fc684",
   "metadata": {},
   "outputs": [],
   "source": [
    "sub = {1,2}"
   ]
  },
  {
   "cell_type": "code",
   "execution_count": 26,
   "id": "d43c63b6-48e9-4cdc-abd8-c80e5cb3574d",
   "metadata": {},
   "outputs": [
    {
     "data": {
      "text/plain": [
       "True"
      ]
     },
     "execution_count": 26,
     "metadata": {},
     "output_type": "execute_result"
    }
   ],
   "source": [
    "sub.issubset(set1)"
   ]
  },
  {
   "cell_type": "code",
   "execution_count": 28,
   "id": "89161353-1b3d-49ca-8945-f2bafc0b6016",
   "metadata": {},
   "outputs": [
    {
     "data": {
      "text/plain": [
       "True"
      ]
     },
     "execution_count": 28,
     "metadata": {},
     "output_type": "execute_result"
    }
   ],
   "source": [
    "set1.issuperset(sub)"
   ]
  },
  {
   "cell_type": "code",
   "execution_count": 1,
   "id": "998ff7f1-05a9-45b6-85b1-7b9a26fac1c3",
   "metadata": {},
   "outputs": [
    {
     "name": "stdout",
     "output_type": "stream",
     "text": [
      "      Name  Score Result\n",
      "0    Alice     85   Pass\n",
      "1      Bob     40   Fail\n",
      "2  Charlie     75   Pass\n"
     ]
    }
   ],
   "source": [
    "import pandas as pd\n",
    "data = {'Name': ['Alice', 'Bob', 'Charlie'], 'Score': [85, 40, 75]}\n",
    "df = pd.DataFrame(data)\n",
    "df['Result'] = df['Score'].apply(lambda x: 'Pass' if x >= 50 else 'Fail')\n",
    "print(df)"
   ]
  },
  {
   "cell_type": "code",
   "execution_count": null,
   "id": "a73357c7-749a-4d8d-ac11-a10585e0c054",
   "metadata": {},
   "outputs": [],
   "source": []
  }
 ],
 "metadata": {
  "kernelspec": {
   "display_name": "Python 3 (ipykernel)",
   "language": "python",
   "name": "python3"
  },
  "language_info": {
   "codemirror_mode": {
    "name": "ipython",
    "version": 3
   },
   "file_extension": ".py",
   "mimetype": "text/x-python",
   "name": "python",
   "nbconvert_exporter": "python",
   "pygments_lexer": "ipython3",
   "version": "3.13.5"
  }
 },
 "nbformat": 4,
 "nbformat_minor": 5
}
