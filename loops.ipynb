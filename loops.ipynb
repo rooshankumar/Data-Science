{
 "cells": [
  {
   "cell_type": "code",
   "execution_count": 4,
   "id": "b8b36f48-8081-4a01-91a7-105351f6b763",
   "metadata": {},
   "outputs": [
    {
     "name": "stdout",
     "output_type": "stream",
     "text": [
      "1\n",
      "3\n",
      "5\n",
      "7\n",
      "9\n"
     ]
    }
   ],
   "source": [
    "l = [1,3,5,7,9]\n",
    "\n",
    "for items in l:\n",
    "    print(items)"
   ]
  },
  {
   "cell_type": "code",
   "execution_count": 5,
   "id": "f2a06bc3-4d8f-48b6-a65b-d2af205961b7",
   "metadata": {},
   "outputs": [
    {
     "name": "stdout",
     "output_type": "stream",
     "text": [
      "0\n",
      "1\n",
      "2\n",
      "3\n",
      "4\n",
      "5\n",
      "6\n",
      "7\n",
      "8\n",
      "9\n"
     ]
    }
   ],
   "source": [
    "for i in range(10):\n",
    "    print(i)"
   ]
  },
  {
   "cell_type": "code",
   "execution_count": 11,
   "id": "eabc887c-62a9-446a-bdd0-a21d16268474",
   "metadata": {},
   "outputs": [
    {
     "name": "stdout",
     "output_type": "stream",
     "text": [
      "1\n",
      "2\n",
      "3\n",
      "4\n",
      "5\n",
      "6\n",
      "7\n",
      "8\n",
      "9\n",
      "10\n"
     ]
    }
   ],
   "source": [
    "for i in range(1, 11):\n",
    "    print(i)"
   ]
  },
  {
   "cell_type": "code",
   "execution_count": 12,
   "id": "8165710d-3ae2-4f47-af95-a965165d5cb5",
   "metadata": {},
   "outputs": [
    {
     "name": "stdout",
     "output_type": "stream",
     "text": [
      "5\n",
      "6\n",
      "7\n",
      "8\n",
      "9\n",
      "10\n"
     ]
    }
   ],
   "source": [
    "for i in range(5,11):\n",
    "    print(i)"
   ]
  },
  {
   "cell_type": "code",
   "execution_count": 15,
   "id": "3f4f2d52-27c4-48b9-89c8-d9bd67809433",
   "metadata": {},
   "outputs": [
    {
     "name": "stdout",
     "output_type": "stream",
     "text": [
      "1\n",
      "2\n",
      "3\n",
      "4\n",
      "5\n",
      "6\n"
     ]
    }
   ],
   "source": [
    "count = 1\n",
    "while count <= 6:\n",
    "    print(count)\n",
    "    count +=1"
   ]
  },
  {
   "cell_type": "code",
   "execution_count": 26,
   "id": "2f356a9b-b0aa-4757-8c06-8552d6b16e67",
   "metadata": {},
   "outputs": [
    {
     "name": "stdout",
     "output_type": "stream",
     "text": [
      "Hello Roshan\n"
     ]
    }
   ],
   "source": [
    "l = [\"apples\", \"bananas\", \"tomatoes\"]\n",
    "\n",
    "for item in l:\n",
    "    pass  # placeholder — loop runs but does nothing\n",
    "\n",
    "print(\"Hello Roshan\")\n"
   ]
  },
  {
   "cell_type": "code",
   "execution_count": 27,
   "id": "9c07f86b-23a6-4565-8283-b578b9987a67",
   "metadata": {},
   "outputs": [
    {
     "name": "stdout",
     "output_type": "stream",
     "text": [
      "apples\n"
     ]
    }
   ],
   "source": [
    "l = [\"apples\", \"bananas\", \"tomatoes\"]\n",
    "\n",
    "for item in l:\n",
    "    if item == \"bananas\":\n",
    "        break  # stops the loop when item is \"bananas\"\n",
    "    print(item)\n"
   ]
  },
  {
   "cell_type": "code",
   "execution_count": 28,
   "id": "93d64bb9-8258-4e49-974c-55dcabcbfe4e",
   "metadata": {},
   "outputs": [
    {
     "name": "stdout",
     "output_type": "stream",
     "text": [
      "apples\n",
      "bananas\n"
     ]
    }
   ],
   "source": [
    "l = [\"apples\", \"bananas\", \"tomatoes\"]\n",
    "\n",
    "for item in l:\n",
    "    if item == \"tomatoes\":\n",
    "        continue  # skip this iteration when item is \"tomatoes\"\n",
    "    print(item)\n"
   ]
  },
  {
   "cell_type": "code",
   "execution_count": null,
   "id": "3bec1dff-0ea2-46ad-9a33-463759461b4d",
   "metadata": {},
   "outputs": [],
   "source": []
  }
 ],
 "metadata": {
  "kernelspec": {
   "display_name": "Python 3 (ipykernel)",
   "language": "python",
   "name": "python3"
  },
  "language_info": {
   "codemirror_mode": {
    "name": "ipython",
    "version": 3
   },
   "file_extension": ".py",
   "mimetype": "text/x-python",
   "name": "python",
   "nbconvert_exporter": "python",
   "pygments_lexer": "ipython3",
   "version": "3.13.5"
  }
 },
 "nbformat": 4,
 "nbformat_minor": 5
}
