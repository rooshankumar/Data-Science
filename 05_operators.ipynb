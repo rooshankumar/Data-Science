{
 "cells": [
  {
   "cell_type": "code",
   "execution_count": 1,
   "id": "768f1c87-e77c-4fbf-9687-118a6d84c9e1",
   "metadata": {},
   "outputs": [],
   "source": [
    "result = 10 + 2 * 3"
   ]
  },
  {
   "cell_type": "code",
   "execution_count": 2,
   "id": "f0c1cf09-3044-4479-98eb-846a39295032",
   "metadata": {},
   "outputs": [
    {
     "data": {
      "text/plain": [
       "16"
      ]
     },
     "execution_count": 2,
     "metadata": {},
     "output_type": "execute_result"
    }
   ],
   "source": [
    "result"
   ]
  },
  {
   "cell_type": "code",
   "execution_count": 3,
   "id": "7339cd25-5d3d-431c-a0a4-fdac8620c813",
   "metadata": {},
   "outputs": [],
   "source": [
    "result = (10 + 2) * 3 # Parentheses first: (10 + 2) * 3 = 36"
   ]
  },
  {
   "cell_type": "code",
   "execution_count": 4,
   "id": "84792239-3991-426f-9394-dd2807adc76a",
   "metadata": {},
   "outputs": [
    {
     "data": {
      "text/plain": [
       "36"
      ]
     },
     "execution_count": 4,
     "metadata": {},
     "output_type": "execute_result"
    }
   ],
   "source": [
    "result"
   ]
  },
  {
   "cell_type": "code",
   "execution_count": 5,
   "id": "b96e655f-4fdd-4e56-bd2d-c6a3ceb9faa5",
   "metadata": {},
   "outputs": [],
   "source": [
    " result = 2 ** 3 ** 2 # Right-to-left exponentiation: 2 ** (3 **"
   ]
  },
  {
   "cell_type": "code",
   "execution_count": 6,
   "id": "a4e297ba-a7ac-4ce4-b42d-2558d1830581",
   "metadata": {},
   "outputs": [
    {
     "data": {
      "text/plain": [
       "512"
      ]
     },
     "execution_count": 6,
     "metadata": {},
     "output_type": "execute_result"
    }
   ],
   "source": [
    "result"
   ]
  },
  {
   "cell_type": "code",
   "execution_count": null,
   "id": "56fd3be6-48ed-4149-b6ef-2c7b6efc9953",
   "metadata": {},
   "outputs": [],
   "source": []
  }
 ],
 "metadata": {
  "kernelspec": {
   "display_name": "Python 3 (ipykernel)",
   "language": "python",
   "name": "python3"
  },
  "language_info": {
   "codemirror_mode": {
    "name": "ipython",
    "version": 3
   },
   "file_extension": ".py",
   "mimetype": "text/x-python",
   "name": "python",
   "nbconvert_exporter": "python",
   "pygments_lexer": "ipython3",
   "version": "3.13.5"
  }
 },
 "nbformat": 4,
 "nbformat_minor": 5
}
