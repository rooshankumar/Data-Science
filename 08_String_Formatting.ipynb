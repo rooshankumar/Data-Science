{
 "cells": [
  {
   "cell_type": "code",
   "execution_count": 8,
   "id": "bbcccf10-4d14-4978-b5b3-a1aa91538e7f",
   "metadata": {},
   "outputs": [
    {
     "data": {
      "text/plain": [
       "'Hello, Roshan. You are 30 years old.'"
      ]
     },
     "execution_count": 8,
     "metadata": {},
     "output_type": "execute_result"
    }
   ],
   "source": [
    "name = \"Roshan\"\n",
    "age = 30\n",
    "f\"Hello, {name}. You are {age} years old.\""
   ]
  },
  {
   "cell_type": "code",
   "execution_count": 13,
   "id": "58b395ed-96bd-41d0-b836-42067ba5b966",
   "metadata": {},
   "outputs": [
    {
     "name": "stdout",
     "output_type": "stream",
     "text": [
      "Python    \n",
      "    Python\n",
      "  Python  \n"
     ]
    }
   ],
   "source": [
    "print(f\"{\"Python\" :<10}\") #left align\n",
    "print(f\"{\"Python\" :>10}\") # right align\n",
    "print(f\"{\"Python\" :^10}\") # center align"
   ]
  },
  {
   "cell_type": "code",
   "execution_count": null,
   "id": "ef78cc1f-27f5-4606-85a6-d38c4f613311",
   "metadata": {},
   "outputs": [],
   "source": []
  }
 ],
 "metadata": {
  "kernelspec": {
   "display_name": "Python 3 (ipykernel)",
   "language": "python",
   "name": "python3"
  },
  "language_info": {
   "codemirror_mode": {
    "name": "ipython",
    "version": 3
   },
   "file_extension": ".py",
   "mimetype": "text/x-python",
   "name": "python",
   "nbconvert_exporter": "python",
   "pygments_lexer": "ipython3",
   "version": "3.13.5"
  }
 },
 "nbformat": 4,
 "nbformat_minor": 5
}
