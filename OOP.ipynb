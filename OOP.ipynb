{
 "cells": [
  {
   "cell_type": "code",
   "execution_count": 1,
   "id": "a8fc6adf-54ff-4c78-aae7-de1c886ac6a8",
   "metadata": {},
   "outputs": [
    {
     "name": "stdout",
     "output_type": "stream",
     "text": [
      "Toyota Camry\n"
     ]
    }
   ],
   "source": [
    "class Car:\n",
    "    def __init__(self, brand, model):\n",
    "        self.brand = brand   # Attribute\n",
    "        self.model = model   # Attribute\n",
    "\n",
    "    def display_info(self):  # Method\n",
    "        return f\"{self.brand} {self.model}\"\n",
    "\n",
    "\n",
    "# Creating an Object (Instance)\n",
    "car1 = Car(\"Toyota\", \"Camry\")\n",
    "print(car1.display_info())  # Output: Toyota Camry\n"
   ]
  },
  {
   "cell_type": "code",
   "execution_count": 2,
   "id": "2dfb466e-7008-4f9d-bb2d-f09d55703b40",
   "metadata": {},
   "outputs": [
    {
     "name": "stdout",
     "output_type": "stream",
     "text": [
      "TATA Baleno\n"
     ]
    }
   ],
   "source": [
    "car2 = Car(\"TATA\", \"Baleno\")\n",
    "print(car2.display_info())"
   ]
  },
  {
   "cell_type": "code",
   "execution_count": 8,
   "id": "adfcb139-5281-4e20-bdfe-973e20c5823a",
   "metadata": {},
   "outputs": [
    {
     "name": "stdout",
     "output_type": "stream",
     "text": [
      "The company is HP with salary $45000\n",
      "The time has started\n",
      "The company is HP\n"
     ]
    }
   ],
   "source": [
    "class Employee:\n",
    "    company = \"HP\"\n",
    "\n",
    "    def __init__(self, name, salary):\n",
    "        self.name = name\n",
    "        self.salary = salary\n",
    "\n",
    "    def printDetails(self):\n",
    "        print(f\"The company is {self.company} with salary ${self.salary}\")\n",
    "\n",
    "    @staticmethod\n",
    "    def printTime():\n",
    "        print(\"The time has started\")\n",
    "\n",
    "    @classmethod\n",
    "    def printClassDetails(cls):\n",
    "        print(f\"The company is {cls.company}\")\n",
    "\n",
    "\n",
    "# Creating an object\n",
    "e = Employee(\"Roshan\", 45000)\n",
    "\n",
    "# Calling instance method\n",
    "e.printDetails()\n",
    "\n",
    "# Calling static method\n",
    "Employee.printTime()\n",
    "\n",
    "# Calling class method\n",
    "Employee.printClassDetails()\n"
   ]
  },
  {
   "cell_type": "code",
   "execution_count": null,
   "id": "9dec0b4f-dd57-41c0-a0d7-5b8cf9d230d7",
   "metadata": {},
   "outputs": [],
   "source": []
  }
 ],
 "metadata": {
  "kernelspec": {
   "display_name": "Python 3 (ipykernel)",
   "language": "python",
   "name": "python3"
  },
  "language_info": {
   "codemirror_mode": {
    "name": "ipython",
    "version": 3
   },
   "file_extension": ".py",
   "mimetype": "text/x-python",
   "name": "python",
   "nbconvert_exporter": "python",
   "pygments_lexer": "ipython3",
   "version": "3.13.5"
  }
 },
 "nbformat": 4,
 "nbformat_minor": 5
}
