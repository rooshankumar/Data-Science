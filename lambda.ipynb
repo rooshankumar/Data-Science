{
 "cells": [
  {
   "cell_type": "code",
   "execution_count": 2,
   "id": "ae6f0955-65ff-4e12-a8a7-bf6109c60985",
   "metadata": {},
   "outputs": [
    {
     "name": "stdout",
     "output_type": "stream",
     "text": [
      "27\n",
      "125\n"
     ]
    }
   ],
   "source": [
    "cube = lambda x: x * x * x\n",
    "print(cube(3))  # Output: 27\n",
    "print(cube(5))  # Output: 125\n"
   ]
  },
  {
   "cell_type": "code",
   "execution_count": 3,
   "id": "4e4ae236-8568-44fb-b2d7-6a8da99cf373",
   "metadata": {},
   "outputs": [
    {
     "name": "stdout",
     "output_type": "stream",
     "text": [
      "Squares: [1, 4, 9, 16, 25, 36]\n",
      "Even numbers: [2, 4, 6]\n",
      "Sum of all numbers: 21\n"
     ]
    }
   ],
   "source": [
    "from functools import reduce\n",
    "\n",
    "# List of numbers\n",
    "nums = [1, 2, 3, 4, 5, 6]\n",
    "\n",
    "# 1️⃣ map() — apply a function to each element\n",
    "squares = list(map(lambda x: x * x, nums))\n",
    "print(\"Squares:\", squares)\n",
    "\n",
    "# 2️⃣ filter() — keep only even numbers\n",
    "evens = list(filter(lambda x: x % 2 == 0, nums))\n",
    "print(\"Even numbers:\", evens)\n",
    "\n",
    "# 3️⃣ reduce() — combine all elements into one result\n",
    "sum_all = reduce(lambda a, b: a + b, nums)\n",
    "print(\"Sum of all numbers:\", sum_all)\n"
   ]
  },
  {
   "cell_type": "code",
   "execution_count": null,
   "id": "12811492-735f-4b6b-ad66-6ddad543f206",
   "metadata": {},
   "outputs": [],
   "source": []
  }
 ],
 "metadata": {
  "kernelspec": {
   "display_name": "Python 3 (ipykernel)",
   "language": "python",
   "name": "python3"
  },
  "language_info": {
   "codemirror_mode": {
    "name": "ipython",
    "version": 3
   },
   "file_extension": ".py",
   "mimetype": "text/x-python",
   "name": "python",
   "nbconvert_exporter": "python",
   "pygments_lexer": "ipython3",
   "version": "3.13.5"
  }
 },
 "nbformat": 4,
 "nbformat_minor": 5
}
