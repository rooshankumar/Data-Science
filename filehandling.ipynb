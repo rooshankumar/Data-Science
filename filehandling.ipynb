{
 "cells": [
  {
   "cell_type": "code",
   "execution_count": 3,
   "id": "77ef4439-b417-46da-9687-1710c3648e4a",
   "metadata": {},
   "outputs": [],
   "source": [
    "file = open(\"text.txt\",\"r\")\n"
   ]
  },
  {
   "cell_type": "code",
   "execution_count": 5,
   "id": "ca2f6d5f-ab2a-4a04-9346-88291a974f81",
   "metadata": {},
   "outputs": [
    {
     "data": {
      "text/plain": [
       "''"
      ]
     },
     "execution_count": 5,
     "metadata": {},
     "output_type": "execute_result"
    }
   ],
   "source": [
    "file.read()"
   ]
  },
  {
   "cell_type": "code",
   "execution_count": 6,
   "id": "f6abc020-d5a5-47bb-8e77-fbf7990a08b9",
   "metadata": {},
   "outputs": [],
   "source": [
    "s = \"This is a pagal.\""
   ]
  },
  {
   "cell_type": "code",
   "execution_count": 8,
   "id": "2984e37b-9da2-4419-9d09-fdd80131a1fe",
   "metadata": {},
   "outputs": [],
   "source": [
    "file.close()"
   ]
  },
  {
   "cell_type": "code",
   "execution_count": 11,
   "id": "3c72da79-0a0b-4a51-997c-068c797575ec",
   "metadata": {},
   "outputs": [],
   "source": [
    "f = open(\"roshan.txt\",\"w\")"
   ]
  },
  {
   "cell_type": "code",
   "execution_count": 12,
   "id": "0ef31109-e9d5-47bf-a86a-03710335d73b",
   "metadata": {},
   "outputs": [
    {
     "data": {
      "text/plain": [
       "16"
      ]
     },
     "execution_count": 12,
     "metadata": {},
     "output_type": "execute_result"
    }
   ],
   "source": [
    "f.write(s)"
   ]
  },
  {
   "cell_type": "code",
   "execution_count": 13,
   "id": "10bbe0d3-be12-47d7-ab34-a72999658a8d",
   "metadata": {},
   "outputs": [
    {
     "name": "stdout",
     "output_type": "stream",
     "text": [
      "\n"
     ]
    }
   ],
   "source": [
    "with open(\"roshan.txt\", \"r\") as file:\n",
    "     content = file.read()\n",
    "print(content) "
   ]
  },
  {
   "cell_type": "code",
   "execution_count": 15,
   "id": "13875588-6895-4947-b4e6-f6656ec72979",
   "metadata": {},
   "outputs": [
    {
     "name": "stdout",
     "output_type": "stream",
     "text": [
      "File exists!\n"
     ]
    }
   ],
   "source": [
    "import os\n",
    "if os.path.exists(\"text.txt\"):\n",
    "    print(\"File exists!\")\n",
    "else:\n",
    "    print(\"File not found!\")\n"
   ]
  },
  {
   "cell_type": "code",
   "execution_count": null,
   "id": "52049c2f-689e-4a2e-9ace-495f423adaa4",
   "metadata": {},
   "outputs": [],
   "source": []
  }
 ],
 "metadata": {
  "kernelspec": {
   "display_name": "Python 3 (ipykernel)",
   "language": "python",
   "name": "python3"
  },
  "language_info": {
   "codemirror_mode": {
    "name": "ipython",
    "version": 3
   },
   "file_extension": ".py",
   "mimetype": "text/x-python",
   "name": "python",
   "nbconvert_exporter": "python",
   "pygments_lexer": "ipython3",
   "version": "3.13.5"
  }
 },
 "nbformat": 4,
 "nbformat_minor": 5
}
