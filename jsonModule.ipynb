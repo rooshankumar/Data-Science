{
 "cells": [
  {
   "cell_type": "code",
   "execution_count": 8,
   "id": "f21ac4b0-024f-44b4-8168-94e796d770b2",
   "metadata": {},
   "outputs": [
    {
     "name": "stdout",
     "output_type": "stream",
     "text": [
      "{\"name\": \"Alice\", \"age\": 25, \"city\": \"New York\"}\n",
      "<class 'str'>\n",
      "{'name': 'Alice', 'age': 25, 'city': 'New York'}\n",
      "<class 'dict'>\n"
     ]
    }
   ],
   "source": [
    "import json\n",
    "\n",
    "data = {\"name\": \"Alice\", \"age\": 25, \"city\": \"New York\"}\n",
    "j = json.dumps(data)      # Python dict → JSON string\n",
    "print(j)\n",
    "print(type(j))            # <class 'str'>\n",
    "\n",
    "k = json.loads(j)         # JSON string → Python dict\n",
    "print(k)\n",
    "print(type(k))            # <class 'dict'>\n"
   ]
  },
  {
   "cell_type": "code",
   "execution_count": 10,
   "id": "38b1b2e5-9a93-4231-a8fc-038a7781ba36",
   "metadata": {},
   "outputs": [],
   "source": [
    "import json\n",
    "\n",
    "data = {\"name\": \"Alice\", \"age\": 25, \"city\": \"New York\"}\n",
    "\n",
    "# open the file in write mode\n",
    "file = open(\"data.json\", \"w\")\n",
    "\n",
    "# write JSON data to file\n",
    "json.dump(data, file)\n",
    "\n",
    "# close the file\n",
    "file.close()\n"
   ]
  },
  {
   "cell_type": "code",
   "execution_count": 11,
   "id": "812d360f-56f4-4196-834a-cf7e6fd9f752",
   "metadata": {},
   "outputs": [
    {
     "name": "stdout",
     "output_type": "stream",
     "text": [
      "{'name': 'Alice', 'age': 25, 'city': 'New York'}\n"
     ]
    }
   ],
   "source": [
    "json_data = '{\"name\": \"Alice\", \"age\": 25, \"city\": \"New York\"}'\n",
    "python_obj = json.loads(json_data)\n",
    "print(python_obj) # Output: {'name': 'Alice', 'age': 25, 'city': 'New York'}print(type(python_obj)"
   ]
  },
  {
   "cell_type": "code",
   "execution_count": null,
   "id": "7d5b89dd-9bd9-4258-aae6-0479bb9f472d",
   "metadata": {},
   "outputs": [],
   "source": []
  }
 ],
 "metadata": {
  "kernelspec": {
   "display_name": "Python 3 (ipykernel)",
   "language": "python",
   "name": "python3"
  },
  "language_info": {
   "codemirror_mode": {
    "name": "ipython",
    "version": 3
   },
   "file_extension": ".py",
   "mimetype": "text/x-python",
   "name": "python",
   "nbconvert_exporter": "python",
   "pygments_lexer": "ipython3",
   "version": "3.13.5"
  }
 },
 "nbformat": 4,
 "nbformat_minor": 5
}
