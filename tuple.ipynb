{
 "cells": [
  {
   "cell_type": "code",
   "execution_count": 1,
   "id": "71597924-68fd-47e9-833d-a34786c3f991",
   "metadata": {},
   "outputs": [],
   "source": [
    "e ={}"
   ]
  },
  {
   "cell_type": "code",
   "execution_count": 2,
   "id": "2f0d067a-35a7-46a5-9bc2-34b2f26645e7",
   "metadata": {},
   "outputs": [
    {
     "data": {
      "text/plain": [
       "dict"
      ]
     },
     "execution_count": 2,
     "metadata": {},
     "output_type": "execute_result"
    }
   ],
   "source": [
    "type(e)"
   ]
  },
  {
   "cell_type": "code",
   "execution_count": 3,
   "id": "804078e0-c7b6-4972-9efb-cde523a7dc1e",
   "metadata": {},
   "outputs": [],
   "source": [
    "l = []"
   ]
  },
  {
   "cell_type": "code",
   "execution_count": 4,
   "id": "08aac505-238d-4920-9627-77befb62eab1",
   "metadata": {},
   "outputs": [
    {
     "data": {
      "text/plain": [
       "list"
      ]
     },
     "execution_count": 4,
     "metadata": {},
     "output_type": "execute_result"
    }
   ],
   "source": [
    "type(l)"
   ]
  },
  {
   "cell_type": "code",
   "execution_count": 5,
   "id": "8e7e80ce-da49-467b-b1d7-c8c1ad751410",
   "metadata": {},
   "outputs": [],
   "source": [
    "y = ( 2343,65,23,12)"
   ]
  },
  {
   "cell_type": "code",
   "execution_count": 6,
   "id": "df25e411-2676-4472-b0c4-76639b014fe6",
   "metadata": {},
   "outputs": [
    {
     "data": {
      "text/plain": [
       "(2343, 65, 23, 12)"
      ]
     },
     "execution_count": 6,
     "metadata": {},
     "output_type": "execute_result"
    }
   ],
   "source": [
    "y"
   ]
  },
  {
   "cell_type": "code",
   "execution_count": 7,
   "id": "75599ca1-0111-40dd-b8d2-f7aa3532b02f",
   "metadata": {},
   "outputs": [
    {
     "data": {
      "text/plain": [
       "tuple"
      ]
     },
     "execution_count": 7,
     "metadata": {},
     "output_type": "execute_result"
    }
   ],
   "source": [
    "type(y)"
   ]
  },
  {
   "cell_type": "code",
   "execution_count": 9,
   "id": "6e4d5cad-9a9e-4ba3-88a8-0aacd05cf57a",
   "metadata": {},
   "outputs": [],
   "source": [
    "person = (\"Alice\", 25, \"Engineer\")\n",
    "name,age,profession = person"
   ]
  },
  {
   "cell_type": "raw",
   "id": "3cd6753b-712f-4ee0-98c9-01c8ae12f40f",
   "metadata": {},
   "source": [
    "person"
   ]
  },
  {
   "cell_type": "code",
   "execution_count": 10,
   "id": "170f88bc-1036-42d0-bdbd-902e721281d0",
   "metadata": {},
   "outputs": [
    {
     "name": "stdout",
     "output_type": "stream",
     "text": [
      "('Alice', 25, 'Engineer')\n"
     ]
    }
   ],
   "source": [
    "print(person)"
   ]
  },
  {
   "cell_type": "code",
   "execution_count": 11,
   "id": "b3e3e35a-c9b0-4521-b46b-330c94627bc7",
   "metadata": {},
   "outputs": [
    {
     "data": {
      "text/plain": [
       "'Alice'"
      ]
     },
     "execution_count": 11,
     "metadata": {},
     "output_type": "execute_result"
    }
   ],
   "source": [
    "name"
   ]
  },
  {
   "cell_type": "code",
   "execution_count": 12,
   "id": "09e2b7d4-4c96-4fdd-8887-c6fc76f7879b",
   "metadata": {},
   "outputs": [
    {
     "data": {
      "text/plain": [
       "25"
      ]
     },
     "execution_count": 12,
     "metadata": {},
     "output_type": "execute_result"
    }
   ],
   "source": [
    "age"
   ]
  },
  {
   "cell_type": "code",
   "execution_count": 13,
   "id": "5ee3eaa0-3c52-4da6-a028-bd00d5051d8f",
   "metadata": {},
   "outputs": [
    {
     "data": {
      "text/plain": [
       "'Engineer'"
      ]
     },
     "execution_count": 13,
     "metadata": {},
     "output_type": "execute_result"
    }
   ],
   "source": [
    "profession"
   ]
  },
  {
   "cell_type": "code",
   "execution_count": 16,
   "id": "3d5f3c99-09dd-448d-ac6b-d63e8931ea9d",
   "metadata": {},
   "outputs": [],
   "source": [
    "t1 = (1, 2, 3)\n",
    "t2 = (\"apple\", \"banana\", \"cherry\")\n",
    "t3 = (1, 2, True, \"Roshan\", [5, 6])\n",
    "t4 = (5,)   # single-element tuple → must include comma\n"
   ]
  },
  {
   "cell_type": "code",
   "execution_count": 17,
   "id": "d6b4288b-7435-4493-acfc-7e2f2e41013a",
   "metadata": {},
   "outputs": [
    {
     "name": "stdout",
     "output_type": "stream",
     "text": [
      "3\n",
      "2\n"
     ]
    }
   ],
   "source": [
    "t = (1, 2, 3, 2, 4, 2)\n",
    "\n",
    "print(t.count(2))   # → 3   (counts how many times 2 appears)\n",
    "print(t.index(3))   # → 2   (returns index of first 3)\n"
   ]
  },
  {
   "cell_type": "code",
   "execution_count": 18,
   "id": "32db1d58-353d-4fea-8dd3-329ec1418575",
   "metadata": {},
   "outputs": [
    {
     "name": "stdout",
     "output_type": "stream",
     "text": [
      "10\n",
      "40\n"
     ]
    }
   ],
   "source": [
    "t = (10, 20, 30, 40)\n",
    "print(t[0])   # 10\n",
    "print(t[-1])  # 40\n"
   ]
  },
  {
   "cell_type": "code",
   "execution_count": 19,
   "id": "22b5def9-497f-408d-aa37-4a8782693d9f",
   "metadata": {},
   "outputs": [
    {
     "name": "stdout",
     "output_type": "stream",
     "text": [
      "(2, 3, 4)\n",
      "(1, 2, 3)\n",
      "(5, 4, 3, 2, 1)\n"
     ]
    }
   ],
   "source": [
    "t = (1, 2, 3, 4, 5)\n",
    "print(t[1:4])    # (2, 3, 4)\n",
    "print(t[:3])     # (1, 2, 3)\n",
    "print(t[::-1])   # (5, 4, 3, 2, 1)\n"
   ]
  },
  {
   "cell_type": "code",
   "execution_count": 20,
   "id": "a1aaa210-3eb5-43b5-ab6e-0c1ea01c4ab3",
   "metadata": {},
   "outputs": [
    {
     "name": "stdout",
     "output_type": "stream",
     "text": [
      "(1, 2, 3, 4)\n",
      "(1, 2, 1, 2)\n",
      "True\n"
     ]
    }
   ],
   "source": [
    "t1 = (1, 2)\n",
    "t2 = (3, 4)\n",
    "print(t1 + t2)      # Concatenation → (1, 2, 3, 4)\n",
    "print(t1 * 2)       # Repetition → (1, 2, 1, 2)\n",
    "print(2 in t1)      # Membership → True\n"
   ]
  },
  {
   "cell_type": "code",
   "execution_count": 21,
   "id": "b9cc7dec-d6ef-4cca-98f5-62a424e79d6b",
   "metadata": {},
   "outputs": [
    {
     "name": "stdout",
     "output_type": "stream",
     "text": [
      "10 20 30\n"
     ]
    }
   ],
   "source": [
    "t = (10, 20, 30)\n",
    "a, b, c = t\n",
    "print(a, b, c)   # 10 20 30\n"
   ]
  },
  {
   "cell_type": "code",
   "execution_count": 22,
   "id": "5026351e-b07b-4fec-9a68-cf4c109c12b4",
   "metadata": {},
   "outputs": [
    {
     "name": "stdout",
     "output_type": "stream",
     "text": [
      "2\n"
     ]
    }
   ],
   "source": [
    "t = (1, (2, 3), (4, 5))\n",
    "print(t[1][0])   # 2\n"
   ]
  },
  {
   "cell_type": "code",
   "execution_count": 23,
   "id": "9d7b4661-6f6b-47e6-9b7f-59909b3add19",
   "metadata": {},
   "outputs": [],
   "source": [
    "t = (1, 2, 3)\n",
    "# t[0] = 10   ❌ TypeError\n"
   ]
  },
  {
   "cell_type": "code",
   "execution_count": null,
   "id": "f985778f-a383-4cfd-9ab1-b96e94798c3a",
   "metadata": {},
   "outputs": [],
   "source": []
  }
 ],
 "metadata": {
  "kernelspec": {
   "display_name": "Python 3 (ipykernel)",
   "language": "python",
   "name": "python3"
  },
  "language_info": {
   "codemirror_mode": {
    "name": "ipython",
    "version": 3
   },
   "file_extension": ".py",
   "mimetype": "text/x-python",
   "name": "python",
   "nbconvert_exporter": "python",
   "pygments_lexer": "ipython3",
   "version": "3.13.5"
  }
 },
 "nbformat": 4,
 "nbformat_minor": 5
}
