{
 "cells": [
  {
   "cell_type": "code",
   "execution_count": 20,
   "id": "e23674d6-3174-481d-a05a-6eb388dc1350",
   "metadata": {},
   "outputs": [],
   "source": [
    "x = 10"
   ]
  },
  {
   "cell_type": "code",
   "execution_count": 22,
   "id": "2ef87de5-21e8-44dc-987c-1fb3cc51622c",
   "metadata": {},
   "outputs": [
    {
     "name": "stdout",
     "output_type": "stream",
     "text": [
      "x is greater than 5\n"
     ]
    }
   ],
   "source": [
    "if x > 5:\n",
    "    print(\"x is greater than 5\")\n",
    "else:\n",
    "     print(\"x is not greater than 5\")"
   ]
  },
  {
   "cell_type": "code",
   "execution_count": 24,
   "id": "3b97aa22-f3c7-4148-854b-bf0e01ad90a5",
   "metadata": {},
   "outputs": [
    {
     "name": "stdout",
     "output_type": "stream",
     "text": [
      "x is exactly 5\n"
     ]
    }
   ],
   "source": [
    " x = 5\n",
    " if x > 10:\n",
    "     print(\"x is greater than 10\")\n",
    " elif x > 5:\n",
    "     print(\"x is greater than 5 but not more than 10\")\n",
    " elif x == 5:\n",
    "     print(\"x is exactly 5\")\n",
    " else:\n",
    "     print(\"x is less than 5\")"
   ]
  },
  {
   "cell_type": "code",
   "execution_count": 26,
   "id": "36d4fd4a-0b10-4dbb-8f42-38c28cc273c9",
   "metadata": {},
   "outputs": [
    {
     "name": "stdout",
     "output_type": "stream",
     "text": [
      "Category: Adult\n"
     ]
    }
   ],
   "source": [
    "age = 25\n",
    "if age < 18:\n",
    "    category = \"Minor\"\n",
    "elif age < 65:\n",
    "    category = \"Adult\"\n",
    "else:\n",
    "    category = \"Senior Citizen\"\n",
    "print(\"Category:\", category)"
   ]
  },
  {
   "cell_type": "code",
   "execution_count": 34,
   "id": "c8629316-e62f-448f-b4e0-541f87eba12a",
   "metadata": {},
   "outputs": [
    {
     "name": "stdout",
     "output_type": "stream",
     "text": [
      "      Name  Score Result\n",
      "0    Alice     85   Pass\n",
      "1      Bob     40   Fail\n",
      "2  Charlie     75   Pass\n"
     ]
    }
   ],
   "source": [
    "import pandas as pd\n",
    "\n",
    "data = {'Name': ['Alice', 'Bob', 'Charlie'], 'Score': [85, 40, 75]}\n",
    "df = pd.DataFrame(data)\n",
    "df['Result'] = df['Score'].apply(lambda x: 'Pass' if x >= 50 else 'Fail')\n",
    "\n",
    "print(df)\n"
   ]
  },
  {
   "cell_type": "code",
   "execution_count": 31,
   "id": "6524113a-87fc-4a06-a95b-402c9a020a08",
   "metadata": {},
   "outputs": [],
   "source": [
    "def avg(a,b):\n",
    "    return (a+b)/2"
   ]
  },
  {
   "cell_type": "code",
   "execution_count": 32,
   "id": "3616d005-6c6a-44b2-9a42-e719707b4104",
   "metadata": {},
   "outputs": [
    {
     "data": {
      "text/plain": [
       "12.5"
      ]
     },
     "execution_count": 32,
     "metadata": {},
     "output_type": "execute_result"
    }
   ],
   "source": [
    "avg(10,15)"
   ]
  },
  {
   "cell_type": "code",
   "execution_count": 36,
   "id": "69d03b19-a278-4aed-86be-ebb1a2f7b5ba",
   "metadata": {},
   "outputs": [],
   "source": [
    "def greet():\n",
    "    print(\"Hello Good Morning\")"
   ]
  },
  {
   "cell_type": "code",
   "execution_count": 37,
   "id": "0218b79b-cb01-4bbf-9a23-32ed895887ea",
   "metadata": {},
   "outputs": [
    {
     "name": "stdout",
     "output_type": "stream",
     "text": [
      "Hello Good Morning\n"
     ]
    }
   ],
   "source": [
    "greet()"
   ]
  },
  {
   "cell_type": "code",
   "execution_count": 39,
   "id": "3139fb07-273a-4d75-8654-9883cc4e94f5",
   "metadata": {},
   "outputs": [],
   "source": [
    "def add(a, b= 10):\n",
    "    return a + b"
   ]
  },
  {
   "cell_type": "code",
   "execution_count": 40,
   "id": "456ea602-e3df-4bba-8918-3f6569322f70",
   "metadata": {},
   "outputs": [
    {
     "data": {
      "text/plain": [
       "20"
      ]
     },
     "execution_count": 40,
     "metadata": {},
     "output_type": "execute_result"
    }
   ],
   "source": [
    "add(10)"
   ]
  },
  {
   "cell_type": "code",
   "execution_count": null,
   "id": "609d05e0-b108-4e53-9631-db7e345fa2f6",
   "metadata": {},
   "outputs": [],
   "source": []
  }
 ],
 "metadata": {
  "kernelspec": {
   "display_name": "Python 3 (ipykernel)",
   "language": "python",
   "name": "python3"
  },
  "language_info": {
   "codemirror_mode": {
    "name": "ipython",
    "version": 3
   },
   "file_extension": ".py",
   "mimetype": "text/x-python",
   "name": "python",
   "nbconvert_exporter": "python",
   "pygments_lexer": "ipython3",
   "version": "3.13.5"
  }
 },
 "nbformat": 4,
 "nbformat_minor": 5
}
