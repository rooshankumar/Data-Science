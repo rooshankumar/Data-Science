{
 "cells": [
  {
   "cell_type": "code",
   "execution_count": 4,
   "id": "c844d291-1db4-4819-b602-44e0fa61fd5b",
   "metadata": {},
   "outputs": [],
   "source": [
    "a = 5"
   ]
  },
  {
   "cell_type": "code",
   "execution_count": 5,
   "id": "8e0865b7-8d22-482f-ab5e-e797ed956cd1",
   "metadata": {},
   "outputs": [],
   "source": [
    "b = 32"
   ]
  },
  {
   "cell_type": "code",
   "execution_count": 6,
   "id": "5906b085-b5e7-4989-ab1a-f59e10a098e2",
   "metadata": {},
   "outputs": [
    {
     "data": {
      "text/plain": [
       "37"
      ]
     },
     "execution_count": 6,
     "metadata": {},
     "output_type": "execute_result"
    }
   ],
   "source": [
    "a+b"
   ]
  },
  {
   "cell_type": "code",
   "execution_count": 8,
   "id": "e1474328-9bdc-4a5d-9878-b3bc3c220b02",
   "metadata": {},
   "outputs": [],
   "source": [
    "name = \"Roshan\""
   ]
  },
  {
   "cell_type": "code",
   "execution_count": 9,
   "id": "7ba2d236-0092-44b4-9031-9a5e5a85ddca",
   "metadata": {},
   "outputs": [
    {
     "name": "stdout",
     "output_type": "stream",
     "text": [
      "Hello\n"
     ]
    }
   ],
   "source": [
    "print(\"Hello\")"
   ]
  },
  {
   "cell_type": "code",
   "execution_count": 10,
   "id": "7f5af6fd-ee7e-4890-87f2-b02bb6744b2a",
   "metadata": {},
   "outputs": [],
   "source": [
    "#This is a comment"
   ]
  },
  {
   "cell_type": "code",
   "execution_count": 11,
   "id": "a98f8bcf-d5d5-4fbd-a124-aba32a41ca1c",
   "metadata": {},
   "outputs": [
    {
     "name": "stdout",
     "output_type": "stream",
     "text": [
      "<class 'int'>\n"
     ]
    }
   ],
   "source": [
    "print(type(a))"
   ]
  },
  {
   "cell_type": "code",
   "execution_count": 12,
   "id": "c398bd8a-a003-4116-85cd-e919ec24616f",
   "metadata": {},
   "outputs": [
    {
     "name": "stdout",
     "output_type": "stream",
     "text": [
      "<class 'str'>\n"
     ]
    }
   ],
   "source": [
    "print(type(name))"
   ]
  },
  {
   "cell_type": "code",
   "execution_count": 13,
   "id": "0e4066d2-960e-45b1-af28-47cebfdf0dc9",
   "metadata": {},
   "outputs": [
    {
     "data": {
      "text/plain": [
       "str"
      ]
     },
     "execution_count": 13,
     "metadata": {},
     "output_type": "execute_result"
    }
   ],
   "source": [
    "type(name)"
   ]
  },
  {
   "cell_type": "code",
   "execution_count": 14,
   "id": "8a2b4228-3457-470e-beff-82fcbd356166",
   "metadata": {},
   "outputs": [],
   "source": [
    "a = \"456\""
   ]
  },
  {
   "cell_type": "code",
   "execution_count": 15,
   "id": "55d3e0dd-9c9c-4ff8-b95d-1d3f01ef73a6",
   "metadata": {},
   "outputs": [],
   "source": [
    "b = \"543\""
   ]
  },
  {
   "cell_type": "code",
   "execution_count": 16,
   "id": "09175e4d-618c-45e9-8a13-6e6044a38111",
   "metadata": {},
   "outputs": [
    {
     "data": {
      "text/plain": [
       "'456543'"
      ]
     },
     "execution_count": 16,
     "metadata": {},
     "output_type": "execute_result"
    }
   ],
   "source": [
    "a+b"
   ]
  },
  {
   "cell_type": "code",
   "execution_count": 18,
   "id": "e07dd7cf-83a2-40ee-8fc5-03a4d2a163d9",
   "metadata": {},
   "outputs": [
    {
     "data": {
      "text/plain": [
       "999"
      ]
     },
     "execution_count": 18,
     "metadata": {},
     "output_type": "execute_result"
    }
   ],
   "source": [
    "int(a) + int(b) #typecasting in python"
   ]
  },
  {
   "cell_type": "code",
   "execution_count": null,
   "id": "811e1834-16c1-4807-96fd-c05914bf3475",
   "metadata": {},
   "outputs": [],
   "source": []
  }
 ],
 "metadata": {
  "kernelspec": {
   "display_name": "Python 3 (ipykernel)",
   "language": "python",
   "name": "python3"
  },
  "language_info": {
   "codemirror_mode": {
    "name": "ipython",
    "version": 3
   },
   "file_extension": ".py",
   "mimetype": "text/x-python",
   "name": "python",
   "nbconvert_exporter": "python",
   "pygments_lexer": "ipython3",
   "version": "3.13.5"
  }
 },
 "nbformat": 4,
 "nbformat_minor": 5
}
